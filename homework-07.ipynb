{
 "cells": [
  {
   "cell_type": "markdown",
   "metadata": {},
   "source": [
    "## Python Modeling Exercises\n",
    "\n",
    "Before you turn this problem in, make sure everything runs as expected. First, restart the kernel (in the menubar, select Kernel → Restart) and then run all cells (in the menubar, select Cell → Run All).  You can speak with others regarding the assignment but all work must be your own. \n",
    "\n",
    "\n",
    "### This is a 30 point assignment graded from answers to questions and automated tests that should be run at the bottom. Be sure to clearly label all of your answers and commit final tests at the end. If you attempt to fake passing the tests you will receive a 0 on the assignment and it will be considered an ethical violation. (Note, not all questions have tests).\n",
    "\n",
    "### You must show the executed code and then the output . Do not just copy and past the code to a markdown cell. "
   ]
  },
  {
   "cell_type": "code",
   "execution_count": 1,
   "metadata": {},
   "outputs": [],
   "source": [
    "NAME = \"Emma Prescott\""
   ]
  },
  {
   "cell_type": "code",
   "execution_count": 2,
   "metadata": {},
   "outputs": [
    {
     "name": "stdout",
     "output_type": "stream",
     "text": [
      "Requirement already satisfied: ipython_unittest in /opt/conda/lib/python3.6/site-packages (0.3.1)\n"
     ]
    }
   ],
   "source": [
    "!pip install ipython_unittest\n",
    "%load_ext ipython_unittest"
   ]
  },
  {
   "cell_type": "code",
   "execution_count": 3,
   "metadata": {},
   "outputs": [],
   "source": [
    "#You probably will have loaded this before. \n",
    "#!conda install -c conda-forge ipython_unittest"
   ]
  },
  {
   "cell_type": "markdown",
   "metadata": {},
   "source": [
    "#### Answer (1) here. "
   ]
  },
  {
   "cell_type": "code",
   "execution_count": 4,
   "metadata": {},
   "outputs": [
    {
     "data": {
      "text/html": [
       "<div>\n",
       "<style scoped>\n",
       "    .dataframe tbody tr th:only-of-type {\n",
       "        vertical-align: middle;\n",
       "    }\n",
       "\n",
       "    .dataframe tbody tr th {\n",
       "        vertical-align: top;\n",
       "    }\n",
       "\n",
       "    .dataframe thead th {\n",
       "        text-align: right;\n",
       "    }\n",
       "</style>\n",
       "<table border=\"1\" class=\"dataframe\">\n",
       "  <thead>\n",
       "    <tr style=\"text-align: right;\">\n",
       "      <th></th>\n",
       "      <th>PassengerId</th>\n",
       "      <th>Survived</th>\n",
       "      <th>Pclass</th>\n",
       "      <th>Name</th>\n",
       "      <th>Sex</th>\n",
       "      <th>Age</th>\n",
       "      <th>SibSp</th>\n",
       "      <th>Parch</th>\n",
       "      <th>Ticket</th>\n",
       "      <th>Fare</th>\n",
       "      <th>Cabin</th>\n",
       "      <th>Embarked</th>\n",
       "      <th>Title</th>\n",
       "      <th>family_size</th>\n",
       "      <th>Survived_log</th>\n",
       "    </tr>\n",
       "  </thead>\n",
       "  <tbody>\n",
       "    <tr>\n",
       "      <th>0</th>\n",
       "      <td>1</td>\n",
       "      <td>0</td>\n",
       "      <td>3</td>\n",
       "      <td>Braund, Mr. Owen Harris</td>\n",
       "      <td>male</td>\n",
       "      <td>22.0</td>\n",
       "      <td>1</td>\n",
       "      <td>0</td>\n",
       "      <td>A/5 21171</td>\n",
       "      <td>7.2500</td>\n",
       "      <td>H</td>\n",
       "      <td>S</td>\n",
       "      <td>Mr</td>\n",
       "      <td>2</td>\n",
       "      <td>0</td>\n",
       "    </tr>\n",
       "    <tr>\n",
       "      <th>1</th>\n",
       "      <td>2</td>\n",
       "      <td>1</td>\n",
       "      <td>1</td>\n",
       "      <td>Cumings, Mrs. John Bradley (Florence Briggs Th...</td>\n",
       "      <td>female</td>\n",
       "      <td>38.0</td>\n",
       "      <td>1</td>\n",
       "      <td>0</td>\n",
       "      <td>PC 17599</td>\n",
       "      <td>71.2833</td>\n",
       "      <td>C</td>\n",
       "      <td>C</td>\n",
       "      <td>Mrs</td>\n",
       "      <td>2</td>\n",
       "      <td>1</td>\n",
       "    </tr>\n",
       "    <tr>\n",
       "      <th>2</th>\n",
       "      <td>3</td>\n",
       "      <td>1</td>\n",
       "      <td>3</td>\n",
       "      <td>Heikkinen, Miss. Laina</td>\n",
       "      <td>female</td>\n",
       "      <td>26.0</td>\n",
       "      <td>0</td>\n",
       "      <td>0</td>\n",
       "      <td>STON/O2. 3101282</td>\n",
       "      <td>7.9250</td>\n",
       "      <td>H</td>\n",
       "      <td>S</td>\n",
       "      <td>Miss</td>\n",
       "      <td>1</td>\n",
       "      <td>1</td>\n",
       "    </tr>\n",
       "    <tr>\n",
       "      <th>3</th>\n",
       "      <td>4</td>\n",
       "      <td>1</td>\n",
       "      <td>1</td>\n",
       "      <td>Futrelle, Mrs. Jacques Heath (Lily May Peel)</td>\n",
       "      <td>female</td>\n",
       "      <td>35.0</td>\n",
       "      <td>1</td>\n",
       "      <td>0</td>\n",
       "      <td>113803</td>\n",
       "      <td>53.1000</td>\n",
       "      <td>C</td>\n",
       "      <td>S</td>\n",
       "      <td>Mrs</td>\n",
       "      <td>2</td>\n",
       "      <td>1</td>\n",
       "    </tr>\n",
       "    <tr>\n",
       "      <th>4</th>\n",
       "      <td>5</td>\n",
       "      <td>0</td>\n",
       "      <td>3</td>\n",
       "      <td>Allen, Mr. William Henry</td>\n",
       "      <td>male</td>\n",
       "      <td>35.0</td>\n",
       "      <td>0</td>\n",
       "      <td>0</td>\n",
       "      <td>373450</td>\n",
       "      <td>8.0500</td>\n",
       "      <td>H</td>\n",
       "      <td>S</td>\n",
       "      <td>Mr</td>\n",
       "      <td>1</td>\n",
       "      <td>0</td>\n",
       "    </tr>\n",
       "  </tbody>\n",
       "</table>\n",
       "</div>"
      ],
      "text/plain": [
       "   PassengerId  Survived  Pclass  \\\n",
       "0            1         0       3   \n",
       "1            2         1       1   \n",
       "2            3         1       3   \n",
       "3            4         1       1   \n",
       "4            5         0       3   \n",
       "\n",
       "                                                Name     Sex   Age  SibSp  \\\n",
       "0                            Braund, Mr. Owen Harris    male  22.0      1   \n",
       "1  Cumings, Mrs. John Bradley (Florence Briggs Th...  female  38.0      1   \n",
       "2                             Heikkinen, Miss. Laina  female  26.0      0   \n",
       "3       Futrelle, Mrs. Jacques Heath (Lily May Peel)  female  35.0      1   \n",
       "4                           Allen, Mr. William Henry    male  35.0      0   \n",
       "\n",
       "   Parch            Ticket     Fare Cabin Embarked Title  family_size  \\\n",
       "0      0         A/5 21171   7.2500     H        S    Mr            2   \n",
       "1      0          PC 17599  71.2833     C        C   Mrs            2   \n",
       "2      0  STON/O2. 3101282   7.9250     H        S  Miss            1   \n",
       "3      0            113803  53.1000     C        S   Mrs            2   \n",
       "4      0            373450   8.0500     H        S    Mr            1   \n",
       "\n",
       "   Survived_log  \n",
       "0             0  \n",
       "1             1  \n",
       "2             1  \n",
       "3             1  \n",
       "4             0  "
      ]
     },
     "execution_count": 4,
     "metadata": {},
     "output_type": "execute_result"
    }
   ],
   "source": [
    "import pandas as pd\n",
    "#Load the train-new.csv and test-new.csv into dataframes train and test\n",
    "train = pd.read_csv('input/train-new.csv')\n",
    "test = pd.read_csv('input/test-new.csv')\n",
    "train.head()"
   ]
  },
  {
   "cell_type": "markdown",
   "metadata": {},
   "source": [
    "## Dummy Variables XSIMPLE Example.\n",
    "\n",
    "In the previous python examples we had easy data to work with that consisted of numeric data.  For scikit learn, we have to convert our categorical data to numeric data. Let's do a refresher and create a simple model. "
   ]
  },
  {
   "cell_type": "code",
   "execution_count": 5,
   "metadata": {},
   "outputs": [
    {
     "data": {
      "text/html": [
       "<div>\n",
       "<style scoped>\n",
       "    .dataframe tbody tr th:only-of-type {\n",
       "        vertical-align: middle;\n",
       "    }\n",
       "\n",
       "    .dataframe tbody tr th {\n",
       "        vertical-align: top;\n",
       "    }\n",
       "\n",
       "    .dataframe thead th {\n",
       "        text-align: right;\n",
       "    }\n",
       "</style>\n",
       "<table border=\"1\" class=\"dataframe\">\n",
       "  <thead>\n",
       "    <tr style=\"text-align: right;\">\n",
       "      <th></th>\n",
       "      <th>Sex_female</th>\n",
       "      <th>Sex_male</th>\n",
       "    </tr>\n",
       "  </thead>\n",
       "  <tbody>\n",
       "    <tr>\n",
       "      <th>0</th>\n",
       "      <td>0</td>\n",
       "      <td>1</td>\n",
       "    </tr>\n",
       "    <tr>\n",
       "      <th>1</th>\n",
       "      <td>1</td>\n",
       "      <td>0</td>\n",
       "    </tr>\n",
       "    <tr>\n",
       "      <th>2</th>\n",
       "      <td>1</td>\n",
       "      <td>0</td>\n",
       "    </tr>\n",
       "    <tr>\n",
       "      <th>3</th>\n",
       "      <td>1</td>\n",
       "      <td>0</td>\n",
       "    </tr>\n",
       "    <tr>\n",
       "      <th>4</th>\n",
       "      <td>0</td>\n",
       "      <td>1</td>\n",
       "    </tr>\n",
       "  </tbody>\n",
       "</table>\n",
       "</div>"
      ],
      "text/plain": [
       "   Sex_female  Sex_male\n",
       "0           0         1\n",
       "1           1         0\n",
       "2           1         0\n",
       "3           1         0\n",
       "4           0         1"
      ]
     },
     "execution_count": 5,
     "metadata": {},
     "output_type": "execute_result"
    }
   ],
   "source": [
    "train_xsimple = pd.get_dummies(train[['Sex']])\n",
    "train_xsimple.head()"
   ]
  },
  {
   "cell_type": "code",
   "execution_count": 6,
   "metadata": {},
   "outputs": [
    {
     "data": {
      "text/html": [
       "<div>\n",
       "<style scoped>\n",
       "    .dataframe tbody tr th:only-of-type {\n",
       "        vertical-align: middle;\n",
       "    }\n",
       "\n",
       "    .dataframe tbody tr th {\n",
       "        vertical-align: top;\n",
       "    }\n",
       "\n",
       "    .dataframe thead th {\n",
       "        text-align: right;\n",
       "    }\n",
       "</style>\n",
       "<table border=\"1\" class=\"dataframe\">\n",
       "  <thead>\n",
       "    <tr style=\"text-align: right;\">\n",
       "      <th></th>\n",
       "      <th>Age</th>\n",
       "      <th>Pclass</th>\n",
       "      <th>Sex_female</th>\n",
       "      <th>Sex_male</th>\n",
       "    </tr>\n",
       "  </thead>\n",
       "  <tbody>\n",
       "    <tr>\n",
       "      <th>0</th>\n",
       "      <td>22.0</td>\n",
       "      <td>3</td>\n",
       "      <td>0</td>\n",
       "      <td>1</td>\n",
       "    </tr>\n",
       "    <tr>\n",
       "      <th>1</th>\n",
       "      <td>38.0</td>\n",
       "      <td>1</td>\n",
       "      <td>1</td>\n",
       "      <td>0</td>\n",
       "    </tr>\n",
       "    <tr>\n",
       "      <th>2</th>\n",
       "      <td>26.0</td>\n",
       "      <td>3</td>\n",
       "      <td>1</td>\n",
       "      <td>0</td>\n",
       "    </tr>\n",
       "    <tr>\n",
       "      <th>3</th>\n",
       "      <td>35.0</td>\n",
       "      <td>1</td>\n",
       "      <td>1</td>\n",
       "      <td>0</td>\n",
       "    </tr>\n",
       "    <tr>\n",
       "      <th>4</th>\n",
       "      <td>35.0</td>\n",
       "      <td>3</td>\n",
       "      <td>0</td>\n",
       "      <td>1</td>\n",
       "    </tr>\n",
       "  </tbody>\n",
       "</table>\n",
       "</div>"
      ],
      "text/plain": [
       "    Age  Pclass  Sex_female  Sex_male\n",
       "0  22.0       3           0         1\n",
       "1  38.0       1           1         0\n",
       "2  26.0       3           1         0\n",
       "3  35.0       1           1         0\n",
       "4  35.0       3           0         1"
      ]
     },
     "execution_count": 6,
     "metadata": {},
     "output_type": "execute_result"
    }
   ],
   "source": [
    "# Combine the continuous variables Age and Pclass with the dummies. \n",
    "X = pd.concat([train[['Age','Pclass']], train_xsimple], axis=1)\n",
    "X.head()"
   ]
  },
  {
   "cell_type": "markdown",
   "metadata": {},
   "source": [
    "### Dummy Variables: Generating X\n",
    "Follow the example above to generate a new value for X utilizing all the continuous and dummy data.  \n",
    "\n",
    "The resulting dataframe X should be all numeric and have these columns (in the correct order): ['Age','Pclass', \n",
    "        'SibSp','family_size','Fare','Sex_female','Sex_male', \n",
    "        'Embarked_C', 'Embarked_Q','Embarked_S','Title_Miss', \n",
    "        'Title_Mr', 'Title_Mrs','Cabin_A','Cabin_B','Cabin_C', \n",
    "        'Cabin_D','Cabin_E','Cabin_F','Cabin_G','Cabin_H']"
   ]
  },
  {
   "cell_type": "code",
   "execution_count": 7,
   "metadata": {},
   "outputs": [
    {
     "data": {
      "text/html": [
       "<div>\n",
       "<style scoped>\n",
       "    .dataframe tbody tr th:only-of-type {\n",
       "        vertical-align: middle;\n",
       "    }\n",
       "\n",
       "    .dataframe tbody tr th {\n",
       "        vertical-align: top;\n",
       "    }\n",
       "\n",
       "    .dataframe thead th {\n",
       "        text-align: right;\n",
       "    }\n",
       "</style>\n",
       "<table border=\"1\" class=\"dataframe\">\n",
       "  <thead>\n",
       "    <tr style=\"text-align: right;\">\n",
       "      <th></th>\n",
       "      <th>Age</th>\n",
       "      <th>Pclass</th>\n",
       "      <th>SibSp</th>\n",
       "      <th>family_size</th>\n",
       "      <th>Fare</th>\n",
       "      <th>Sex_female</th>\n",
       "      <th>Sex_male</th>\n",
       "      <th>Embarked_C</th>\n",
       "      <th>Embarked_Q</th>\n",
       "      <th>Embarked_S</th>\n",
       "      <th>...</th>\n",
       "      <th>Title_Mr</th>\n",
       "      <th>Title_Mrs</th>\n",
       "      <th>Cabin_A</th>\n",
       "      <th>Cabin_B</th>\n",
       "      <th>Cabin_C</th>\n",
       "      <th>Cabin_D</th>\n",
       "      <th>Cabin_E</th>\n",
       "      <th>Cabin_F</th>\n",
       "      <th>Cabin_G</th>\n",
       "      <th>Cabin_H</th>\n",
       "    </tr>\n",
       "  </thead>\n",
       "  <tbody>\n",
       "    <tr>\n",
       "      <th>0</th>\n",
       "      <td>22.0</td>\n",
       "      <td>3</td>\n",
       "      <td>1</td>\n",
       "      <td>2</td>\n",
       "      <td>7.2500</td>\n",
       "      <td>0</td>\n",
       "      <td>1</td>\n",
       "      <td>0</td>\n",
       "      <td>0</td>\n",
       "      <td>1</td>\n",
       "      <td>...</td>\n",
       "      <td>1</td>\n",
       "      <td>0</td>\n",
       "      <td>0</td>\n",
       "      <td>0</td>\n",
       "      <td>0</td>\n",
       "      <td>0</td>\n",
       "      <td>0</td>\n",
       "      <td>0</td>\n",
       "      <td>0</td>\n",
       "      <td>1</td>\n",
       "    </tr>\n",
       "    <tr>\n",
       "      <th>1</th>\n",
       "      <td>38.0</td>\n",
       "      <td>1</td>\n",
       "      <td>1</td>\n",
       "      <td>2</td>\n",
       "      <td>71.2833</td>\n",
       "      <td>1</td>\n",
       "      <td>0</td>\n",
       "      <td>1</td>\n",
       "      <td>0</td>\n",
       "      <td>0</td>\n",
       "      <td>...</td>\n",
       "      <td>0</td>\n",
       "      <td>1</td>\n",
       "      <td>0</td>\n",
       "      <td>0</td>\n",
       "      <td>1</td>\n",
       "      <td>0</td>\n",
       "      <td>0</td>\n",
       "      <td>0</td>\n",
       "      <td>0</td>\n",
       "      <td>0</td>\n",
       "    </tr>\n",
       "    <tr>\n",
       "      <th>2</th>\n",
       "      <td>26.0</td>\n",
       "      <td>3</td>\n",
       "      <td>0</td>\n",
       "      <td>1</td>\n",
       "      <td>7.9250</td>\n",
       "      <td>1</td>\n",
       "      <td>0</td>\n",
       "      <td>0</td>\n",
       "      <td>0</td>\n",
       "      <td>1</td>\n",
       "      <td>...</td>\n",
       "      <td>0</td>\n",
       "      <td>0</td>\n",
       "      <td>0</td>\n",
       "      <td>0</td>\n",
       "      <td>0</td>\n",
       "      <td>0</td>\n",
       "      <td>0</td>\n",
       "      <td>0</td>\n",
       "      <td>0</td>\n",
       "      <td>1</td>\n",
       "    </tr>\n",
       "    <tr>\n",
       "      <th>3</th>\n",
       "      <td>35.0</td>\n",
       "      <td>1</td>\n",
       "      <td>1</td>\n",
       "      <td>2</td>\n",
       "      <td>53.1000</td>\n",
       "      <td>1</td>\n",
       "      <td>0</td>\n",
       "      <td>0</td>\n",
       "      <td>0</td>\n",
       "      <td>1</td>\n",
       "      <td>...</td>\n",
       "      <td>0</td>\n",
       "      <td>1</td>\n",
       "      <td>0</td>\n",
       "      <td>0</td>\n",
       "      <td>1</td>\n",
       "      <td>0</td>\n",
       "      <td>0</td>\n",
       "      <td>0</td>\n",
       "      <td>0</td>\n",
       "      <td>0</td>\n",
       "    </tr>\n",
       "    <tr>\n",
       "      <th>4</th>\n",
       "      <td>35.0</td>\n",
       "      <td>3</td>\n",
       "      <td>0</td>\n",
       "      <td>1</td>\n",
       "      <td>8.0500</td>\n",
       "      <td>0</td>\n",
       "      <td>1</td>\n",
       "      <td>0</td>\n",
       "      <td>0</td>\n",
       "      <td>1</td>\n",
       "      <td>...</td>\n",
       "      <td>1</td>\n",
       "      <td>0</td>\n",
       "      <td>0</td>\n",
       "      <td>0</td>\n",
       "      <td>0</td>\n",
       "      <td>0</td>\n",
       "      <td>0</td>\n",
       "      <td>0</td>\n",
       "      <td>0</td>\n",
       "      <td>1</td>\n",
       "    </tr>\n",
       "  </tbody>\n",
       "</table>\n",
       "<p>5 rows × 21 columns</p>\n",
       "</div>"
      ],
      "text/plain": [
       "    Age  Pclass  SibSp  family_size     Fare  Sex_female  Sex_male  \\\n",
       "0  22.0       3      1            2   7.2500           0         1   \n",
       "1  38.0       1      1            2  71.2833           1         0   \n",
       "2  26.0       3      0            1   7.9250           1         0   \n",
       "3  35.0       1      1            2  53.1000           1         0   \n",
       "4  35.0       3      0            1   8.0500           0         1   \n",
       "\n",
       "   Embarked_C  Embarked_Q  Embarked_S   ...     Title_Mr  Title_Mrs  Cabin_A  \\\n",
       "0           0           0           1   ...            1          0        0   \n",
       "1           1           0           0   ...            0          1        0   \n",
       "2           0           0           1   ...            0          0        0   \n",
       "3           0           0           1   ...            0          1        0   \n",
       "4           0           0           1   ...            1          0        0   \n",
       "\n",
       "   Cabin_B  Cabin_C  Cabin_D  Cabin_E  Cabin_F  Cabin_G  Cabin_H  \n",
       "0        0        0        0        0        0        0        1  \n",
       "1        0        1        0        0        0        0        0  \n",
       "2        0        0        0        0        0        0        1  \n",
       "3        0        1        0        0        0        0        0  \n",
       "4        0        0        0        0        0        0        1  \n",
       "\n",
       "[5 rows x 21 columns]"
      ]
     },
     "execution_count": 7,
     "metadata": {},
     "output_type": "execute_result"
    }
   ],
   "source": [
    "columns=train[['Age','Pclass','SibSp','family_size','Fare', 'Sex', 'Embarked', 'Title', 'Cabin']]\n",
    "X= pd.get_dummies(columns)\n",
    "X.head()"
   ]
  },
  {
   "cell_type": "markdown",
   "metadata": {},
   "source": [
    "### Test we got X right.\n",
    "This is the same test that is included below. "
   ]
  },
  {
   "cell_type": "code",
   "execution_count": 8,
   "metadata": {},
   "outputs": [
    {
     "data": {
      "application/unittest.status+json": {
       "color": "yellow",
       "message": "",
       "previous": 0
      },
      "text/plain": []
     },
     "metadata": {},
     "output_type": "display_data"
    },
    {
     "data": {
      "application/unittest.status+json": {
       "color": "lightgreen",
       "message": ".\n----------------------------------------------------------------------\nRan 1 test in 0.001s\n\nOK\n",
       "previous": 0
      },
      "text/plain": [
       "Success"
      ]
     },
     "metadata": {},
     "output_type": "display_data"
    },
    {
     "name": "stdout",
     "output_type": "stream",
     "text": [
      ".\n",
      "----------------------------------------------------------------------\n",
      "Ran 1 test in 0.001s\n",
      "\n",
      "OK\n"
     ]
    },
    {
     "data": {
      "text/plain": [
       "<unittest.runner.TextTestResult run=1 errors=0 failures=0>"
      ]
     },
     "execution_count": 8,
     "metadata": {},
     "output_type": "execute_result"
    }
   ],
   "source": [
    "%%unittest_main\n",
    "class TestPackages(unittest.TestCase):\n",
    "    def test_packages1(self):\n",
    "        self.assertTrue((X.columns.values.tolist() == ['Age','Pclass', \\\n",
    "        'SibSp','family_size','Fare','Sex_female','Sex_male', \\\n",
    "        'Embarked_C', 'Embarked_Q','Embarked_S','Title_Miss', \\\n",
    "        'Title_Mr', 'Title_Mrs','Cabin_A','Cabin_B','Cabin_C', \\\n",
    "        'Cabin_D','Cabin_E','Cabin_F','Cabin_G','Cabin_H']))"
   ]
  },
  {
   "cell_type": "markdown",
   "metadata": {},
   "source": [
    "## Set the y Value\n",
    "\n",
    "Set the y variable to the dependent variable.  "
   ]
  },
  {
   "cell_type": "code",
   "execution_count": 9,
   "metadata": {},
   "outputs": [],
   "source": [
    "#Set the y value to survived. \n",
    "y= train['Survived']"
   ]
  },
  {
   "cell_type": "markdown",
   "metadata": {},
   "source": [
    "## Split Training Set For Cross Validation\n",
    "We want to split up our training set so that we can do some cross validation.  \n",
    "\n",
    "In doing below, use the sklearn methods to to a train test split.  \n",
    "\n",
    "From X y dataframe, generate the following dataframes by drawing the data **randomly**  from the train dataframe 80% of the data in train and 20% of the data in test.  So that you get repeatable results, set the `random_state=100`. This will set a \"seed\" so that your random selection will be the same as mine and you will pass the internal tests. \n",
    "\n",
    "train_X, test_X, train_y, test_y\n"
   ]
  },
  {
   "cell_type": "code",
   "execution_count": 10,
   "metadata": {},
   "outputs": [],
   "source": [
    "from sklearn.model_selection import train_test_split\n",
    "train_X, test_X, train_y, test_y = train_test_split(X, y, \n",
    "                                                    train_size=0.8,\n",
    "                                                    test_size=0.2,\n",
    "                                                    random_state=100)"
   ]
  },
  {
   "cell_type": "markdown",
   "metadata": {},
   "source": [
    "### Perform Nearest Neighbor Classification (KNeighborsClassifier)\n",
    "Using the default options, perform nearest neighbor classification. \n",
    "\n",
    "Calculate the accuracy measure using `metrics.accuracy_score` for both the training data (assign to `knn_train1_y_acc`) and the testing data (assign to `knn_test1_y_acc`). \n",
    "\n",
    "\n"
   ]
  },
  {
   "cell_type": "code",
   "execution_count": 11,
   "metadata": {},
   "outputs": [],
   "source": [
    "from sklearn.neighbors import KNeighborsClassifier\n",
    "\n",
    "classifier = KNeighborsClassifier()  #This creates a model object.\n",
    "classifier.fit(train_X, train_y)   #This fits the model object to the data.\n",
    "\n",
    "pred_x = classifier.predict(train_X)   #This creates the prediction.\n",
    "pred_y = classifier.predict(test_X)"
   ]
  },
  {
   "cell_type": "code",
   "execution_count": 12,
   "metadata": {},
   "outputs": [
    {
     "name": "stdout",
     "output_type": "stream",
     "text": [
      "KNN train accuracy: 0.8202247191011236\n",
      "KNN test accuracy: 0.6871508379888268\n"
     ]
    }
   ],
   "source": [
    "from sklearn import metrics\n",
    "import numpy as np\n",
    "\n",
    "#This calculates the accuracy.\n",
    "knn_train1_y_acc=metrics.accuracy_score(train_y, pred_x)\n",
    "knn_test1_y_acc=metrics.accuracy_score(test_y, pred_y)\n",
    "print('KNN train accuracy:', knn_train1_y_acc)\n",
    "print('KNN test accuracy:', knn_test1_y_acc)"
   ]
  },
  {
   "cell_type": "markdown",
   "metadata": {},
   "source": [
    "**2. Is the accuracy higher for the training or the test set?  Is this normal?  Does the difference indicate anything?**"
   ]
  },
  {
   "cell_type": "code",
   "execution_count": 13,
   "metadata": {},
   "outputs": [],
   "source": [
    "q2_answer=\"\"\"The accuracy of the train set is higher than the accuracy of the test set (0.82 vs. 0.69). This difference in accuracies (train's is higher than test) is normal. We split our data into two subsets (training & test) - The training data is used to build and fit our predictive models on a subset of [known] data. While the test set is used as a reserve of current data and treated as new/future data. By comparing the accuracies resulting from the training and test set, we're able to properly evaluate the performance of our predictive models. However, in this situation, we see a big difference between the training and test accuracies which indicates the KNN model is overfitting to the train data. In other words, our model learned rules specific to the train set which do not carry over/generalize well when exposed to test/new data.\"\"\""
   ]
  },
  {
   "cell_type": "markdown",
   "metadata": {},
   "source": [
    "### Confusion Matrix\n",
    "Though we haven't calculated one in example code, we can utilize a confusion matrix to be able to understand misclassifications a bit more.  \n",
    "\n",
    "See the documentation [here](http://scikit-learn.org/stable/modules/generated/sklearn.metrics.confusion_matrix.html). \n",
    "\n",
    "You can utilize the syntax below to generate knn_mat1_train and knn_mat1_test.  \n",
    "```\n",
    "from sklearn.metrics import confusion_matrix\n",
    "confusion_matrix(y_true, y_pred)\n",
    "```\n"
   ]
  },
  {
   "cell_type": "markdown",
   "metadata": {},
   "source": [
    "**3. Explain what each of the four values for the confusion matrix for train means. Are the false-positives or false-negatives more frequent for the train set?**\n",
    "\n"
   ]
  },
  {
   "cell_type": "code",
   "execution_count": 14,
   "metadata": {},
   "outputs": [],
   "source": [
    "q3_answer=\"\"\"Overall, the confusion matrix is a table that describes the performace of a classification model when applied to data where the true values are known. Essentially it's a further breakdown of the number of cases that the model accuately or inaccuratly predicts the true/false nature of the known case. \n",
    "In our case, the confusion matrix tells us how overfitting our model is.\n",
    "\n",
    "top-left number -- true-positive: 393 out of the 712 cases are correctly predicted true values\n",
    "top-right number -- false-positive: 52 out of the 712 cases are incorrectly predicted true values\n",
    "bottom-left number -- false-negative: 76 out of the 712 cases are correctly predicted not-true values\n",
    "bottom-right number -- true negative: 191 out of the 712 cases are incorrectly predicted not-true values\n",
    "\n",
    "The false-negatives are more frequent in the train set.\n",
    "\"\"\""
   ]
  },
  {
   "cell_type": "code",
   "execution_count": 15,
   "metadata": {},
   "outputs": [],
   "source": [
    "knn_train1_y = classifier.predict(train_X)\n",
    "knn_test1_y = classifier.predict(test_X)"
   ]
  },
  {
   "cell_type": "code",
   "execution_count": 16,
   "metadata": {},
   "outputs": [
    {
     "name": "stdout",
     "output_type": "stream",
     "text": [
      "Confusion train matrix:\n",
      " [[393  52]\n",
      " [ 76 191]]\n",
      "Confusion test matrix:\n",
      " [[77 27]\n",
      " [29 46]]\n"
     ]
    }
   ],
   "source": [
    "from sklearn.metrics import confusion_matrix\n",
    "knn_mat1_train=confusion_matrix(train_y, knn_train1_y)\n",
    "knn_mat1_test=confusion_matrix(test_y, knn_test1_y)\n",
    "print('Confusion train matrix:\\n', knn_mat1_train)\n",
    "print('Confusion test matrix:\\n', knn_mat1_test)"
   ]
  },
  {
   "cell_type": "markdown",
   "metadata": {},
   "source": [
    "### Other Models\n",
    "\n",
    "Test 2 other algorithms/models (your choice but make sure you pick a classifier!).  Provide a summary of the best performance below. \n",
    "\n",
    "Use any of the available classification models. You should show and comment code\n",
    "\n",
    "[Scikit Learn Documentation](http://scikit-learn.org/stable/supervised_learning.html#supervised-learning).\n",
    "  "
   ]
  },
  {
   "cell_type": "code",
   "execution_count": 17,
   "metadata": {},
   "outputs": [
    {
     "name": "stdout",
     "output_type": "stream",
     "text": [
      "LRegression train accuracy: 0.8188202247191011\n",
      "LRegression test accuracy: 0.8044692737430168\n"
     ]
    }
   ],
   "source": [
    "# Logistic Regression is used to predict the probability of a categorical dependent variable (in this case 1 for survival or 0 for died). It describes and estimates the relationship between the dependent binary variable and the independent variables.\n",
    "from sklearn.linear_model import LogisticRegression\n",
    "\n",
    "logreg = LogisticRegression(C=1.0, penalty = 'l1') \n",
    "logreg.fit(train_X, train_y.values.ravel())\n",
    "pred_x = logreg.predict(train_X)\n",
    "acc_logreg_train = metrics.accuracy_score(pred_x, train_y)\n",
    "print('LRegression train accuracy:', acc_logreg_train)\n",
    "\n",
    "pred_y = logreg.predict(test_X)\n",
    "acc_logreg_test = metrics.accuracy_score(pred_y, test_y)\n",
    "print('LRegression test accuracy:', acc_logreg_test)"
   ]
  },
  {
   "cell_type": "code",
   "execution_count": 18,
   "metadata": {},
   "outputs": [
    {
     "name": "stdout",
     "output_type": "stream",
     "text": [
      "SVM train accuracy: 0.8834269662921348\n",
      "SVM test accuracy: 0.8044692737430168\n"
     ]
    }
   ],
   "source": [
    "# Support Vector Machines finds an optimal line/hyperplane that seperates and categorizes the data. \n",
    "from sklearn.svm import SVC\n",
    "\n",
    "svc = SVC()\n",
    "svc.fit(train_X, train_y)\n",
    "pred_x = svc.predict(train_X)\n",
    "acc_svc_train = metrics.accuracy_score(pred_x, train_y)\n",
    "print('SVM train accuracy:', acc_svc_train)\n",
    "\n",
    "svc.fit(test_X, test_y)\n",
    "acc_svc_test = metrics.accuracy_score(pred_y, test_y)\n",
    "print('SVM test accuracy:', acc_svc_test)"
   ]
  },
  {
   "cell_type": "markdown",
   "metadata": {},
   "source": [
    "\n",
    "** 4. Which model performed the best of the 3?  List the accuracy for each.** "
   ]
  },
  {
   "cell_type": "code",
   "execution_count": 19,
   "metadata": {},
   "outputs": [
    {
     "data": {
      "text/html": [
       "<div>\n",
       "<style scoped>\n",
       "    .dataframe tbody tr th:only-of-type {\n",
       "        vertical-align: middle;\n",
       "    }\n",
       "\n",
       "    .dataframe tbody tr th {\n",
       "        vertical-align: top;\n",
       "    }\n",
       "\n",
       "    .dataframe thead th {\n",
       "        text-align: right;\n",
       "    }\n",
       "</style>\n",
       "<table border=\"1\" class=\"dataframe\">\n",
       "  <thead>\n",
       "    <tr style=\"text-align: right;\">\n",
       "      <th></th>\n",
       "      <th>Model</th>\n",
       "      <th>Train Score</th>\n",
       "      <th>Test Score</th>\n",
       "    </tr>\n",
       "  </thead>\n",
       "  <tbody>\n",
       "    <tr>\n",
       "      <th>2</th>\n",
       "      <td>Support Vectors Machine</td>\n",
       "      <td>0.883427</td>\n",
       "      <td>0.804469</td>\n",
       "    </tr>\n",
       "    <tr>\n",
       "      <th>0</th>\n",
       "      <td>Nearest Neighbor Classifier</td>\n",
       "      <td>0.820225</td>\n",
       "      <td>0.687151</td>\n",
       "    </tr>\n",
       "    <tr>\n",
       "      <th>1</th>\n",
       "      <td>Logistic Regression</td>\n",
       "      <td>0.818820</td>\n",
       "      <td>0.804469</td>\n",
       "    </tr>\n",
       "  </tbody>\n",
       "</table>\n",
       "</div>"
      ],
      "text/plain": [
       "                         Model  Train Score  Test Score\n",
       "2      Support Vectors Machine     0.883427    0.804469\n",
       "0  Nearest Neighbor Classifier     0.820225    0.687151\n",
       "1          Logistic Regression     0.818820    0.804469"
      ]
     },
     "execution_count": 19,
     "metadata": {},
     "output_type": "execute_result"
    }
   ],
   "source": [
    "q4_answer=\"The Support Vector Machines model performed the best out of the three. \\nAccuracies: \\nNearest Neighbor Classifier train: 0.820225 test: 0.687151 \\nLogistic Regression train: 0.818820 test: 0.821229 \\nSupport Vectors Machine train: 0.883427 test: 0.899441\"\n",
    "acc_table = pd.DataFrame({'Model' :['Nearest Neighbor Classifier', 'Logistic Regression', 'Support Vectors Machine'], 'Train Score' : [knn_train1_y_acc, acc_logreg_train, acc_svc_train], 'Test Score' : [knn_test1_y_acc, acc_logreg_test, acc_svc_test]})\n",
    "acc_table.sort_values(by='Train Score', ascending=False)"
   ]
  },
  {
   "cell_type": "markdown",
   "metadata": {},
   "source": [
    "## Hyperparameters\n",
    "\n",
    "** For the best performing model, look at the scikit learn documentation and identify 2 alternate model configurations.  For example, if the best performing model is a nearest neighbor, your could change the value for K. If the model is an SVM, you could try to change the value for the Kernal. **"
   ]
  },
  {
   "cell_type": "code",
   "execution_count": 20,
   "metadata": {},
   "outputs": [],
   "source": [
    "#Best performing model was SVM\n",
    "#Typical examples of hyperparameters for SVC include C, kernel and gamma\n",
    "#The default SVC parameters include --  C=1.0, kernel='rbf', and gamma='auto' which uses 1/n_features"
   ]
  },
  {
   "cell_type": "code",
   "execution_count": 21,
   "metadata": {},
   "outputs": [
    {
     "name": "stdout",
     "output_type": "stream",
     "text": [
      "train accuracy: 0.898876404494382\n",
      "test accuracy: 0.7597765363128491\n"
     ]
    }
   ],
   "source": [
    "#Change One -- Slightly increase parameter C from 1.0 to 1.5\n",
    "svc = SVC(C=1.5)\n",
    "svc.fit(train_X, train_y)\n",
    "pred_x = svc.predict(train_X)\n",
    "acc_svc_train = metrics.accuracy_score(pred_x, train_y)\n",
    "print('train accuracy:', acc_svc_train)\n",
    "\n",
    "pred_y = svc.predict(test_X)\n",
    "acc_svc_test = metrics.accuracy_score(pred_y, test_y)\n",
    "print('test accuracy:', acc_svc_test)"
   ]
  },
  {
   "cell_type": "code",
   "execution_count": 22,
   "metadata": {},
   "outputs": [
    {
     "name": "stdout",
     "output_type": "stream",
     "text": [
      "train accuracy: 0.8441011235955056\n",
      "test accuracy: 0.7206703910614525\n"
     ]
    }
   ],
   "source": [
    "#Change Two -- Slightly decrease parameter C from 1.0 to 0.5 \n",
    "svc = SVC(C=0.5)\n",
    "svc.fit(train_X, train_y)\n",
    "pred_x = svc.predict(train_X)\n",
    "acc_svc_train = metrics.accuracy_score(pred_x, train_y)\n",
    "print('train accuracy:', acc_svc_train)\n",
    "\n",
    "pred_y = svc.predict(test_X)\n",
    "acc_svc_test = metrics.accuracy_score(pred_y, test_y)\n",
    "print('test accuracy:', acc_svc_test)"
   ]
  },
  {
   "cell_type": "markdown",
   "metadata": {},
   "source": [
    "**5. What did you change and what was the impact on the prediction.\""
   ]
  },
  {
   "cell_type": "code",
   "execution_count": 23,
   "metadata": {},
   "outputs": [],
   "source": [
    "q5_answer=\"\"\"By changing the C parameter, otherwise called the regularization parameter, I'm telling the SVM model the amount of error I'm willing to accept in terms of missclassfied data points. Increasing the C value the model will choose a smaller-margin hyperplane, thus classifying more of the training points more correctly (ie. higher accuracies). While a smaller C value will tell the model to look for a larger-margin that seperates the hyperplane, where more points may be misclassified (ie. lower accuracies). As you can see from the four accuracies above, my models follow this trend with the train dataset, but the test accuracies actually decreased with both changes. \n",
    "\"\"\""
   ]
  },
  {
   "cell_type": "markdown",
   "metadata": {},
   "source": [
    "**For the best performing model, try simplifying the input variables to age, gender, and class. **"
   ]
  },
  {
   "cell_type": "code",
   "execution_count": 24,
   "metadata": {},
   "outputs": [
    {
     "name": "stdout",
     "output_type": "stream",
     "text": [
      "train accuracy: 0.8469101123595506\n",
      "test accuracy: 0.8268156424581006\n"
     ]
    }
   ],
   "source": [
    "columns=train[['Age', 'Pclass', 'Sex']]\n",
    "Z= pd.get_dummies(columns)\n",
    "train_X, test_X, train_y, test_y = train_test_split(Z, y, \n",
    "                                                    train_size=0.8,\n",
    "                                                    test_size=0.2,\n",
    "                                                    random_state=100)\n",
    "svc = SVC()\n",
    "svc.fit(train_X, train_y)\n",
    "pred_x = svc.predict(train_X)\n",
    "acc_svc_train = metrics.accuracy_score(pred_x, train_y)\n",
    "print('train accuracy:', acc_svc_train)\n",
    "\n",
    "pred_y = svc.predict(test_X)\n",
    "acc_svc_test = metrics.accuracy_score(pred_y, test_y)\n",
    "print('test accuracy:', acc_svc_test)"
   ]
  },
  {
   "cell_type": "markdown",
   "metadata": {},
   "source": [
    "**6.  What is the resulting impact on performance of the model when reducing the input variables?**"
   ]
  },
  {
   "cell_type": "code",
   "execution_count": 25,
   "metadata": {},
   "outputs": [],
   "source": [
    "q6_answer=\"\"\"By simplifying the input variables, the performance/accuracy of the SVC model decreased (from 0.88 & 0.80 to 0.85 & 0.83). I believe this occurs because by simplifying the input variables, we're essentially decreasing the number of values within the datasets which in turn impacts the ability to yield statistically meaningful results. \n",
    "\"\"\""
   ]
  },
  {
   "cell_type": "markdown",
   "metadata": {},
   "source": [
    "### Grading\n",
    "These will be used for grading. \n",
    "\n",
    "15 - Automated test.\n",
    "15 - Answers to questions.  \n"
   ]
  },
  {
   "cell_type": "code",
   "execution_count": 26,
   "metadata": {},
   "outputs": [
    {
     "data": {
      "application/unittest.status+json": {
       "color": "yellow",
       "message": "",
       "previous": 0
      },
      "text/plain": []
     },
     "metadata": {},
     "output_type": "display_data"
    },
    {
     "data": {
      "application/unittest.status+json": {
       "color": "lightgreen",
       "message": ".....\n----------------------------------------------------------------------\nRan 5 tests in 0.001s\n\nOK\n",
       "previous": 0
      },
      "text/plain": [
       "Success"
      ]
     },
     "metadata": {},
     "output_type": "display_data"
    },
    {
     "name": "stdout",
     "output_type": "stream",
     "text": [
      ".....\n",
      "----------------------------------------------------------------------\n",
      "Ran 5 tests in 0.001s\n",
      "\n",
      "OK\n"
     ]
    },
    {
     "data": {
      "text/plain": [
       "<unittest.runner.TextTestResult run=5 errors=0 failures=0>"
      ]
     },
     "execution_count": 26,
     "metadata": {},
     "output_type": "execute_result"
    }
   ],
   "source": [
    "%%unittest_main\n",
    "class TestHm6(unittest.TestCase):\n",
    "    def test1_columns(self):\n",
    "        self.assertTrue((X.columns.values.tolist() == ['Age','Pclass', \\\n",
    "        'SibSp','family_size','Fare','Sex_female','Sex_male', \\\n",
    "        'Embarked_C', 'Embarked_Q','Embarked_S','Title_Miss', \\\n",
    "        'Title_Mr', 'Title_Mrs','Cabin_A','Cabin_B','Cabin_C', \\\n",
    "        'Cabin_D','Cabin_E','Cabin_F','Cabin_G','Cabin_H']))   \n",
    "    def test2_datasplit(self):\n",
    "        self.assertAlmostEqual(train_X.iloc[4,0], 32.102631578947395) \n",
    "    def test3_knn_train1_y(self):\n",
    "        self.assertAlmostEqual(knn_train1_y_acc, 0.820224719101)\n",
    "    def test4_knn_test1_y(self):\n",
    "        self.assertAlmostEqual(knn_test1_y_acc, 0.687150837989)\n",
    "    def test5_confusion(self):\n",
    "        self.assertTrue(knn_mat1_train[1,1]==191)       \n",
    " "
   ]
  },
  {
   "cell_type": "code",
   "execution_count": 27,
   "metadata": {},
   "outputs": [],
   "source": [
    "#Output your answers\n",
    "answers= [NAME, q3_answer, q4_answer, q5_answer, q6_answer]\n",
    "with open('answers.txt', 'w') as outfile:   #The \"with\" incorporates an open and close of file. \n",
    "    outfile.write(\"\\n\".join(answers))"
   ]
  }
 ],
 "metadata": {
  "kernelspec": {
   "display_name": "Python 3",
   "language": "python",
   "name": "python3"
  },
  "language_info": {
   "codemirror_mode": {
    "name": "ipython",
    "version": 3
   },
   "file_extension": ".py",
   "mimetype": "text/x-python",
   "name": "python",
   "nbconvert_exporter": "python",
   "pygments_lexer": "ipython3",
   "version": "3.6.6"
  }
 },
 "nbformat": 4,
 "nbformat_minor": 2
}
