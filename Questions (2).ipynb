{
 "cells": [
  {
   "cell_type": "markdown",
   "metadata": {},
   "source": [
    "# Tech Fundamentals of Business Analytics\n",
    "\"I pledge under the RPI honor code that I have completed this work on my own.\" \n",
    "\n",
    "Emma Prescott"
   ]
  },
  {
   "cell_type": "markdown",
   "metadata": {},
   "source": [
    "## Exploratory Data Analysis\n",
    "(30 minute estimate)\n",
    "\n",
    "The data directory includes a wide variety of data related to health care.  \n",
    "    \n",
    "(1. 10 points) Pick a numeric variable from the data which seems interesting.  Analyze the mean of that variable for both MA and NY.  \n",
    "\n",
    "\n",
    "(1a. 5 points)   Provide the code to perform the operations above. \n",
    "\n",
    "\n",
    "(1b. 5 points)  Provide an interpretation of your findings.  What does what you found in 1a mean?  If you couldn't get 1a to work then you can interpret it both ways. \n"
   ]
  },
  {
   "cell_type": "code",
   "execution_count": 16,
   "metadata": {
    "collapsed": true
   },
   "outputs": [
    {
     "name": "stdout",
     "output_type": "stream",
     "text": [
      "Mean Cost of medications in MA: 492.94318506153525\n",
      "Mean Cost of medications in NY: 529.9636547624685\n"
     ]
    }
   ],
   "source": [
    "import pandas as pd\n",
    "\n",
    "medications_ma = pd.read_csv('data/ma/medications.csv')\n",
    "medications_ny = pd.read_csv('data/ny/medications.csv')\n",
    "\n",
    "medications_ma.describe() #Mean Cost: 492.94\n",
    "medications_ny.describe() #Mean Cost: 529.96\n",
    "\n",
    "ma_med_mean = medications_ma['COST'].mean()\n",
    "print('Mean Cost of medications in MA:', ma_med_mean)\n",
    "\n",
    "ny_med_mean = medications_ny['COST'].mean()\n",
    "print('Mean Cost of medications in NY:', ny_med_mean)"
   ]
  },
  {
   "cell_type": "markdown",
   "metadata": {},
   "source": [
    "1b. I was curious if there was a difference in the average cost of medications in Massachusetts and New York. From examining the medications.csv files from both states, I'm able to see the average cost of medication in NY is higher than the average cost in MA. This difference could occur for a number of reasons, significantly more people in NY require more of the relatively expensive types of medications than those in MA or the actual prices of the same medication could differ by states."
   ]
  },
  {
   "cell_type": "markdown",
   "metadata": {},
   "source": [
    "## Visualization\n",
    "(30 minute estimate)\n",
    "\n",
    "The `encounters.csv` dataframe has the `COST` variable, which is a real concern when it comes to hospitals, lawmakers, etc. \n",
    "\n",
    "(2. 10 points) Create a graph of the `COST` on one axis and the `ENCOUNTERCLASS`  on a second axis for both NY and MA (can do in different graphs). \n",
    "\n",
    "(2a. 5 points)   Provide the code to perform the operations above. \n",
    "\n",
    "(2b. 5 points)  Provide an interpretation of your findings.  What does what you found in 2a mean?  If you couldn't get 2a to work what is the data likely to show. \n",
    "\n",
    "\n"
   ]
  },
  {
   "cell_type": "code",
   "execution_count": 78,
   "metadata": {
    "collapsed": true
   },
   "outputs": [
    {
     "name": "stdout",
     "output_type": "stream",
     "text": [
      "AxesSubplot(0.125,0.125;0.775x0.755)\n"
     ]
    },
    {
     "data": {
      "image/png": "[encoded data removed]",
      "text/plain": [
       "<Figure size 432x288 with 1 Axes>"
      ]
     },
     "metadata": {},
     "output_type": "display_data"
    }
   ],
   "source": [
    "import seaborn as sns\n",
    "import numpy as np\n",
    "\n",
    "encounters_ma = pd.read_csv('data/ma/encounters.csv')\n",
    "encounters_ny = pd.read_csv('data/ny/encounters.csv')\n",
    "\n",
    "full_encounter['EncounterClass_ma'] = encounters_ma['ENCOUNTERCLASS']\n",
    "full_encounter['Cost_ma']= encounters_ma['COST']\n",
    "\n",
    "# full_encounter.head()\n",
    "ma_plot = sns.boxplot(x=EncounterClass_ma, y=cost_ma)\n",
    "print(ma_plot)"
   ]
  },
  {
   "cell_type": "code",
   "execution_count": 71,
   "metadata": {},
   "outputs": [
    {
     "name": "stdout",
     "output_type": "stream",
     "text": [
      "AxesSubplot(0.125,0.125;0.775x0.755)\n"
     ]
    },
    {
     "data": {
      "image/png": "[encoded data removed]",
      "text/plain": [
       "<Figure size 432x288 with 1 Axes>"
      ]
     },
     "metadata": {},
     "output_type": "display_data"
    }
   ],
   "source": [
    "EncounterClass_ny = encounters_ny['ENCOUNTERCLASS']\n",
    "cost_ny = encounters_ny['COST']\n",
    "\n",
    "ny_plot = sns.boxplot(x=EncounterClass_ny, y=cost_ny)\n",
    "print(ny_plot)"
   ]
  },
  {
   "cell_type": "markdown",
   "metadata": {},
   "source": [
    "2b. By looking at the two graphs above, we're able to see the cost of encounters appears to be slightly higher in Massachusetts than encounters in New York (ie. closer to 130 vs. under 120)."
   ]
  },
  {
   "cell_type": "markdown",
   "metadata": {},
   "source": [
    "## Join\n",
    "(30 minute estimate)\n",
    "\n",
    "The `encounters.csv` dataframe has the `Patient` variable, which is a foreign key to the `patients.csv`   \n",
    "\n",
    "(3. 5 points) Join the `encounters.csv` data with the `patient.csv` data into a new pandas dataframe and list the first several rows of the dataframe. \n",
    "\n",
    "*You need only do this for MA data*\n",
    "\n",
    "(3a. 5 points)   Provide the code to perform the operations above. \n",
    "\n"
   ]
  },
  {
   "cell_type": "code",
   "execution_count": 46,
   "metadata": {
    "collapsed": true
   },
   "outputs": [
    {
     "data": {
      "text/html": [
       "<div>\n",
       "<style scoped>\n",
       "    .dataframe tbody tr th:only-of-type {\n",
       "        vertical-align: middle;\n",
       "    }\n",
       "\n",
       "    .dataframe tbody tr th {\n",
       "        vertical-align: top;\n",
       "    }\n",
       "\n",
       "    .dataframe thead th {\n",
       "        text-align: right;\n",
       "    }\n",
       "</style>\n",
       "<table border=\"1\" class=\"dataframe\">\n",
       "  <thead>\n",
       "    <tr style=\"text-align: right;\">\n",
       "      <th></th>\n",
       "      <th>ID</th>\n",
       "      <th>START</th>\n",
       "      <th>STOP</th>\n",
       "      <th>PATIENT</th>\n",
       "      <th>ENCOUNTERCLASS</th>\n",
       "      <th>CODE</th>\n",
       "      <th>DESCRIPTION</th>\n",
       "      <th>COST</th>\n",
       "      <th>REASONCODE</th>\n",
       "      <th>REASONDESCRIPTION</th>\n",
       "      <th>...</th>\n",
       "      <th>MAIDEN</th>\n",
       "      <th>MARITAL</th>\n",
       "      <th>RACE</th>\n",
       "      <th>ETHNICITY</th>\n",
       "      <th>GENDER</th>\n",
       "      <th>BIRTHPLACE</th>\n",
       "      <th>ADDRESS</th>\n",
       "      <th>CITY</th>\n",
       "      <th>STATE</th>\n",
       "      <th>ZIP</th>\n",
       "    </tr>\n",
       "  </thead>\n",
       "  <tbody>\n",
       "    <tr>\n",
       "      <th>0</th>\n",
       "      <td>31c87413-3974-473c-9754-c7114b8978f6</td>\n",
       "      <td>2009-01-25T13:47:49Z</td>\n",
       "      <td>2009-01-25T14:17:49Z</td>\n",
       "      <td>628a3ea6-cfb4-4e7d-8e6b-a5f62c6e8883</td>\n",
       "      <td>wellness</td>\n",
       "      <td>185349003</td>\n",
       "      <td>Encounter for check up (procedure)</td>\n",
       "      <td>129.16</td>\n",
       "      <td>NaN</td>\n",
       "      <td>NaN</td>\n",
       "      <td>...</td>\n",
       "      <td>Volkman526</td>\n",
       "      <td>M</td>\n",
       "      <td>asian</td>\n",
       "      <td>chinese</td>\n",
       "      <td>F</td>\n",
       "      <td>Cambridge</td>\n",
       "      <td>897 Sporer Landing</td>\n",
       "      <td>New Bedford</td>\n",
       "      <td>Massachusetts</td>\n",
       "      <td>2740.0</td>\n",
       "    </tr>\n",
       "    <tr>\n",
       "      <th>1</th>\n",
       "      <td>6c9857c1-7ceb-4963-b5fb-7e49042c2070</td>\n",
       "      <td>2011-10-04T06:18:31Z</td>\n",
       "      <td>2011-10-04T06:33:31Z</td>\n",
       "      <td>be6fcf98-1120-4e61-8c47-053a90dbb0fb</td>\n",
       "      <td>wellness</td>\n",
       "      <td>185349003</td>\n",
       "      <td>Encounter for check up (procedure)</td>\n",
       "      <td>129.16</td>\n",
       "      <td>NaN</td>\n",
       "      <td>NaN</td>\n",
       "      <td>...</td>\n",
       "      <td>NaN</td>\n",
       "      <td>NaN</td>\n",
       "      <td>white</td>\n",
       "      <td>english</td>\n",
       "      <td>M</td>\n",
       "      <td>Bedford</td>\n",
       "      <td>392 Cronin Center</td>\n",
       "      <td>Brockton</td>\n",
       "      <td>Massachusetts</td>\n",
       "      <td>2301.0</td>\n",
       "    </tr>\n",
       "    <tr>\n",
       "      <th>2</th>\n",
       "      <td>010bec07-df11-4d85-9601-8553997346d2</td>\n",
       "      <td>2010-10-03T22:27:10Z</td>\n",
       "      <td>2010-10-03T22:42:10Z</td>\n",
       "      <td>7a463c11-6f37-4ace-a7e9-4ddb1f991ab8</td>\n",
       "      <td>wellness</td>\n",
       "      <td>185349003</td>\n",
       "      <td>Encounter for check up (procedure)</td>\n",
       "      <td>129.16</td>\n",
       "      <td>NaN</td>\n",
       "      <td>NaN</td>\n",
       "      <td>...</td>\n",
       "      <td>NaN</td>\n",
       "      <td>NaN</td>\n",
       "      <td>hispanic</td>\n",
       "      <td>puerto_rican</td>\n",
       "      <td>F</td>\n",
       "      <td>Needham</td>\n",
       "      <td>967 Bashirian Mission Unit 30</td>\n",
       "      <td>Revere</td>\n",
       "      <td>Massachusetts</td>\n",
       "      <td>2151.0</td>\n",
       "    </tr>\n",
       "    <tr>\n",
       "      <th>3</th>\n",
       "      <td>ef25c90c-535a-460d-bc7d-fa0b3a7cf772</td>\n",
       "      <td>2009-08-23T06:24:25Z</td>\n",
       "      <td>2009-08-23T06:49:25Z</td>\n",
       "      <td>09e253b4-5aaa-42a0-8f4f-a521ac0254b5</td>\n",
       "      <td>ambulatory</td>\n",
       "      <td>185345009</td>\n",
       "      <td>Encounter for symptom</td>\n",
       "      <td>129.16</td>\n",
       "      <td>10509002.0</td>\n",
       "      <td>Acute bronchitis (disorder)</td>\n",
       "      <td>...</td>\n",
       "      <td>NaN</td>\n",
       "      <td>S</td>\n",
       "      <td>hispanic</td>\n",
       "      <td>central_american</td>\n",
       "      <td>M</td>\n",
       "      <td>Brookline</td>\n",
       "      <td>779 Trantow Road</td>\n",
       "      <td>Boston</td>\n",
       "      <td>Massachusetts</td>\n",
       "      <td>2108.0</td>\n",
       "    </tr>\n",
       "    <tr>\n",
       "      <th>4</th>\n",
       "      <td>4c72baa9-14bc-4ca8-a833-c8244603744c</td>\n",
       "      <td>2009-09-17T20:18:22Z</td>\n",
       "      <td>2009-09-17T20:48:22Z</td>\n",
       "      <td>0ab6aa30-dfd4-4955-93b5-f05c9613bc70</td>\n",
       "      <td>wellness</td>\n",
       "      <td>185349003</td>\n",
       "      <td>Encounter for check up (procedure)</td>\n",
       "      <td>129.16</td>\n",
       "      <td>NaN</td>\n",
       "      <td>NaN</td>\n",
       "      <td>...</td>\n",
       "      <td>NaN</td>\n",
       "      <td>NaN</td>\n",
       "      <td>white</td>\n",
       "      <td>scottish</td>\n",
       "      <td>F</td>\n",
       "      <td>Chicopee</td>\n",
       "      <td>341 Collins Junction</td>\n",
       "      <td>Dedham</td>\n",
       "      <td>Massachusetts</td>\n",
       "      <td>2026.0</td>\n",
       "    </tr>\n",
       "  </tbody>\n",
       "</table>\n",
       "<p>5 rows × 29 columns</p>\n",
       "</div>"
      ],
      "text/plain": [
       "                                     ID                 START  \\\n",
       "0  31c87413-3974-473c-9754-c7114b8978f6  2009-01-25T13:47:49Z   \n",
       "1  6c9857c1-7ceb-4963-b5fb-7e49042c2070  2011-10-04T06:18:31Z   \n",
       "2  010bec07-df11-4d85-9601-8553997346d2  2010-10-03T22:27:10Z   \n",
       "3  ef25c90c-535a-460d-bc7d-fa0b3a7cf772  2009-08-23T06:24:25Z   \n",
       "4  4c72baa9-14bc-4ca8-a833-c8244603744c  2009-09-17T20:18:22Z   \n",
       "\n",
       "                   STOP                               PATIENT ENCOUNTERCLASS  \\\n",
       "0  2009-01-25T14:17:49Z  628a3ea6-cfb4-4e7d-8e6b-a5f62c6e8883       wellness   \n",
       "1  2011-10-04T06:33:31Z  be6fcf98-1120-4e61-8c47-053a90dbb0fb       wellness   \n",
       "2  2010-10-03T22:42:10Z  7a463c11-6f37-4ace-a7e9-4ddb1f991ab8       wellness   \n",
       "3  2009-08-23T06:49:25Z  09e253b4-5aaa-42a0-8f4f-a521ac0254b5     ambulatory   \n",
       "4  2009-09-17T20:48:22Z  0ab6aa30-dfd4-4955-93b5-f05c9613bc70       wellness   \n",
       "\n",
       "        CODE                         DESCRIPTION    COST  REASONCODE  \\\n",
       "0  185349003  Encounter for check up (procedure)  129.16         NaN   \n",
       "1  185349003  Encounter for check up (procedure)  129.16         NaN   \n",
       "2  185349003  Encounter for check up (procedure)  129.16         NaN   \n",
       "3  185345009               Encounter for symptom  129.16  10509002.0   \n",
       "4  185349003  Encounter for check up (procedure)  129.16         NaN   \n",
       "\n",
       "             REASONDESCRIPTION   ...        MAIDEN MARITAL      RACE  \\\n",
       "0                          NaN   ...    Volkman526       M     asian   \n",
       "1                          NaN   ...           NaN     NaN     white   \n",
       "2                          NaN   ...           NaN     NaN  hispanic   \n",
       "3  Acute bronchitis (disorder)   ...           NaN       S  hispanic   \n",
       "4                          NaN   ...           NaN     NaN     white   \n",
       "\n",
       "          ETHNICITY GENDER BIRTHPLACE                        ADDRESS  \\\n",
       "0           chinese      F  Cambridge             897 Sporer Landing   \n",
       "1           english      M    Bedford              392 Cronin Center   \n",
       "2      puerto_rican      F    Needham  967 Bashirian Mission Unit 30   \n",
       "3  central_american      M  Brookline               779 Trantow Road   \n",
       "4          scottish      F   Chicopee           341 Collins Junction   \n",
       "\n",
       "          CITY          STATE     ZIP  \n",
       "0  New Bedford  Massachusetts  2740.0  \n",
       "1     Brockton  Massachusetts  2301.0  \n",
       "2       Revere  Massachusetts  2151.0  \n",
       "3       Boston  Massachusetts  2108.0  \n",
       "4       Dedham  Massachusetts  2026.0  \n",
       "\n",
       "[5 rows x 29 columns]"
      ]
     },
     "execution_count": 46,
     "metadata": {},
     "output_type": "execute_result"
    }
   ],
   "source": [
    "patients_ma = pd.read_csv('data/ma/patients.csv')\n",
    "#patients_ma.head() #foreign key column is named \"ID\"\n",
    "\n",
    "encounters_patients = encounters_ma.join(patients_ma.set_index('ID'), on= 'PATIENT')\n",
    "encounters_patients.head()"
   ]
  },
  {
   "cell_type": "markdown",
   "metadata": {},
   "source": [
    "## Regression\n",
    "(45 minute estimate) \n",
    "\n",
    "(4. 15 points) First split your data into an 70% train and 30% validation.  Using linear regression analysis, use the `ENCOUNTERCLASS` to predict `COST` This is your naive model. Report R-Squared for both training and validation. \n",
    "\n",
    "*You need only do this for MA data*\n",
    "\n",
    "(4a. 5 points)  Breifly describe how your would do the task above.   \n",
    "\n",
    "(4b. 5 points)   Provide the code to perform the operations above. \n",
    "\n",
    "(4c. 5 points)  Provide an interpretation of your findings.  What does what you found in 4a mean?  If you couldn't get 2a to work what is the data likely to show. \n"
   ]
  },
  {
   "cell_type": "markdown",
   "metadata": {},
   "source": [
    "4a. To complete the task above:\n",
    "1. Make EncounterClass into numeric variables since they're categorical (ie. wellness, ambulatory, outpatient, emergency, urgentcare, inpatient). I will use the get_dummy feature to convert each encounter class in its own column and include binomial variables for when they're identified. \n",
    "2. I need to import the necessary packages to properly split the data into the training and test datasets.\n",
    "3. I need to also import the necessary package to run a Linear Regression model. Followed by properly setting up the model - fitting the data, generating the predictions, finally calculating the R-squared values to evaluate the performance of my model"
   ]
  },
  {
   "cell_type": "code",
   "execution_count": 49,
   "metadata": {
    "collapsed": true
   },
   "outputs": [
    {
     "name": "stdout",
     "output_type": "stream",
     "text": [
      "R2 Train Score: 0.4402480640848936\n",
      "R2 Test Score: 0.43025317937136665\n"
     ]
    }
   ],
   "source": [
    "naive = pd.get_dummies(encounters_ma[['ENCOUNTERCLASS']])\n",
    "# train.head()\n",
    "prediction = encounters_ma['COST']\n",
    "\n",
    "#Step 1\n",
    "from sklearn.model_selection import train_test_split\n",
    "train_x, test_x, train_y, test_y = train_test_split(naive, prediction, train_size =0.7, test_size=0.3, random_state=100)\n",
    "\n",
    "#Step 2\n",
    "from sklearn.linear_model import LinearRegression\n",
    "from sklearn.metrics import r2_score\n",
    "\n",
    "#Step 3\n",
    "lr = LinearRegression()\n",
    "lr.fit(train_x, train_y) #fit data\n",
    "\n",
    "pred_x = lr.predict(train_x) #generate predictions\n",
    "pred_y = lr.predict(test_x)\n",
    "\n",
    "R2_train = r2_score(train_y, pred_x) #calculate r-squared\n",
    "R2_test = r2_score(test_y, pred_y)\n",
    "\n",
    "print('R2 Train Score:', R2_train)\n",
    "print('R2 Test Score:', R2_test)"
   ]
  },
  {
   "cell_type": "markdown",
   "metadata": {},
   "source": [
    "4c. As we've learned from class, R-squared is used to determine how well our model performs at making predictions. It assess the goodness-of-fit of our model against the dependent variable (ie. predicting each encounters cost). Ideally, we'd like to see a R-squared value of 1.0 returned or as close to 1.0 (100%) as possible, indicating our model's predictions are not too far from the actual values. \n",
    "\n",
    "But, my model return 0.43. This value isn't too high indicating the independent variable (ie. encounter class) poorly predicts the dependent variable (ie. cost). Maybe there are other independent variables that could be used to more accurately predict or influence the cost of an encounter class."
   ]
  },
  {
   "cell_type": "markdown",
   "metadata": {},
   "source": [
    "## Predictive Modeling\n",
    "(45 minute estimate) \n",
    "\n",
    "(5. 15 points) Try and improve over your naive model.  This could include a variety of options.  You could include more data, different algorithm, etc.  *The data for cost wasn't as exciting as I hoped and you might get a really high R2 in your simple model. Try something different through or describe how you would.*\n",
    "\n",
    "(5a. 5 points)  Describe how you would improve the modeling.\n",
    "\n",
    "(5b. 5 points)   Provide the code to perform at least 1 improvement.  \n",
    "\n",
    "(5c. 5 points)  Provide an interpretation of your findings.  What does what you found in 5b mean?  If you couldn't get 5b to work what is the data likely to show. "
   ]
  },
  {
   "cell_type": "markdown",
   "metadata": {},
   "source": [
    "5a. To improve my naive model, I'd like to include more data/variables to our Linear Regression model. By adding more variables, I'm hoping for a higher R2 value since the model can train off more than just one variable to make its predictions. I'll try including more information about the patient (ie. ethnicity, gender and city)"
   ]
  },
  {
   "cell_type": "code",
   "execution_count": 52,
   "metadata": {
    "collapsed": true
   },
   "outputs": [
    {
     "data": {
      "text/plain": [
       "Index(['ID', 'START', 'STOP', 'PATIENT', 'ENCOUNTERCLASS', 'CODE',\n",
       "       'DESCRIPTION', 'COST', 'REASONCODE', 'REASONDESCRIPTION', 'BIRTHDATE',\n",
       "       'DEATHDATE', 'SSN', 'DRIVERS', 'PASSPORT', 'PREFIX', 'FIRST', 'LAST',\n",
       "       'SUFFIX', 'MAIDEN', 'MARITAL', 'RACE', 'ETHNICITY', 'GENDER',\n",
       "       'BIRTHPLACE', 'ADDRESS', 'CITY', 'STATE', 'ZIP'],\n",
       "      dtype='object')"
      ]
     },
     "execution_count": 52,
     "metadata": {},
     "output_type": "execute_result"
    }
   ],
   "source": [
    "# encounters_patients.head()\n",
    "encounters_patients.columns"
   ]
  },
  {
   "cell_type": "code",
   "execution_count": 61,
   "metadata": {},
   "outputs": [
    {
     "name": "stdout",
     "output_type": "stream",
     "text": [
      "R2 Train Score: 0.4838106451262887\n",
      "R2 Test Score: 0.47630935342245384\n"
     ]
    }
   ],
   "source": [
    "attempt2 = pd.get_dummies(encounters_patients[['ENCOUNTERCLASS', 'ETHNICITY', 'GENDER', 'CITY']])\n",
    "attempt2.head()\n",
    "\n",
    "predict2 = encounters_patients['COST']\n",
    "\n",
    "#Step 1\n",
    "from sklearn.model_selection import train_test_split\n",
    "train_x, test_x, train_y, test_y = train_test_split(attempt2, predict2, train_size =0.7, test_size=0.3, random_state=100)\n",
    "\n",
    "#Step 2\n",
    "from sklearn.linear_model import LinearRegression\n",
    "from sklearn.metrics import r2_score\n",
    "lr = LinearRegression()\n",
    "lr.fit(train_x, train_y) #fit data\n",
    "\n",
    "pred_x = lr.predict(train_x) #generate predictions\n",
    "pred_y = lr.predict(test_x)\n",
    "\n",
    "R2_train = r2_score(train_y, pred_x) #calculate r-squared\n",
    "R2_test = r2_score(test_y, pred_y)\n",
    "\n",
    "print('R2 Train Score:', R2_train)\n",
    "print('R2 Test Score:', R2_test)"
   ]
  },
  {
   "cell_type": "markdown",
   "metadata": {},
   "source": [
    "5c. By including additional independent variables (ie. encounter class, ethnicity, gender and city), the outputted R2 score was slightly higher than my naive model - 0.4838 vs. 0.4402. Maybe patient information is not as influential on the cost of an encounter class. With more time, I would have liked to examine factors outside of the encounter and patient datasets, such as the patients' careplan, medications, or possibly procedures."
   ]
  },
  {
   "cell_type": "markdown",
   "metadata": {},
   "source": [
    "### Submission\n",
    "For the final submission, please both commit your code to Github and create a PDF and submit to LMS (this is where the final grading is done.)  \n",
    "\n",
    "Please don't spend more than three hours on it. You can take up to an hour of breaks during the process. "
   ]
  },
  {
   "cell_type": "code",
   "execution_count": null,
   "metadata": {
    "collapsed": true
   },
   "outputs": [],
   "source": []
  }
 ],
 "metadata": {
  "kernelspec": {
   "display_name": "Python 3",
   "language": "python",
   "name": "python3"
  },
  "language_info": {
   "codemirror_mode": {
    "name": "ipython",
    "version": 3
   },
   "file_extension": ".py",
   "mimetype": "text/x-python",
   "name": "python",
   "nbconvert_exporter": "python",
   "pygments_lexer": "ipython3",
   "version": "3.6.6"
  }
 },
 "nbformat": 4,
 "nbformat_minor": 2
}
