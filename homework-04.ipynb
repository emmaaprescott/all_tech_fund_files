{
 "cells": [
  {
   "cell_type": "markdown",
   "metadata": {},
   "source": [
    "## Introduction to Python Exercises\n",
    "\n",
    "Before you turn this problem in, make sure everything runs as expected. First, restart the kernel (in the menubar, select Kernel → Restart) and then run all cells (in the menubar, select Cell → Run All).  You can speak with others regarding the assignment but all work must be your own. \n",
    "\n",
    "\n",
    "### This is a 30 point assignment graded from answers to questions and automated tests that should be run at the bottom. Be sure to clearly label all of your answers and commit final tests at the end. If you attempt to fake passing the tests you will receive a 0 on the assignment and it will be considered an ethical violation. (Note, not all questions have tests).\n"
   ]
  },
  {
   "cell_type": "code",
   "execution_count": 1,
   "metadata": {},
   "outputs": [],
   "source": [
    "NAME = \"Emma Prescott\""
   ]
  },
  {
   "cell_type": "markdown",
   "metadata": {},
   "source": [
    "## Exercise-Twitter API\n",
    "\n",
    "(1) Describe what an API is and what importance Twitter's API is. "
   ]
  },
  {
   "cell_type": "code",
   "execution_count": 2,
   "metadata": {},
   "outputs": [],
   "source": [
    "q1_question= \"\"\"\n",
    "1) Describe what an API is and what importance Twitter's API is.\n",
    "\"\"\"\n",
    "q1_answer=\"\"\" An API or Application-Programming Interface is a set of procedures/guidelines\n",
    "that tells/allows one program/software to interact with another (ie. perform task, access data, etc).\n",
    "\n",
    "Twitter's API allows developers/innovators to access information on public profiles. \n",
    "This is important because it creates an ecosystem of developers/innovators that utilize the data\n",
    "to create solutions and make the platform better/more valuable.\n",
    "\"\"\""
   ]
  },
  {
   "cell_type": "markdown",
   "metadata": {},
   "source": [
    "## Exercise-Twitter API\n",
    "\n",
    "(2) Using code from the course repository involving the Twitter API, download the profile for the following users: tensorflow, DeepLearningHub, your TwitterID.\n",
    "\n",
    "Here is a set-by-step that should help. <br>\n",
    "\n",
    "**Before you begin, make sure you follow instructions from class to create your Twitter application and can run the example twitter notebook using your configuration**\n",
    "\n",
    "(a) Take the necessary functions from the notebook and move them to a module.<br>\n",
    "(b) Confirm that the existing code works with your modules. <br>\n",
    "(c) Copy the module file into this directory. <br>\n",
    "(d) Copy the module import statement and other code necessary to call the twitter API to this notebook. <br>\n",
    "(e) Add your twitterid name to the list of profiles in (screen_names.csv). <br>\n",
    "(f) Copy over your configuration file to twitter/config.yaml <br>\n",
    "(g) Use your code and generate a json file in /data/profiles/<date>-user-profiles.json.  This will be tested later. <br>\n",
    "(h) Set your filename below. \n",
    "\n"
   ]
  },
  {
   "cell_type": "code",
   "execution_count": 3,
   "metadata": {},
   "outputs": [
    {
     "name": "stdout",
     "output_type": "stream",
     "text": [
      "   index      screen_name\n",
      "0      1  jasonkuruzovich\n",
      "1      2    analyticsdojo\n",
      "   index      screen_name\n",
      "0    1.0       tensorflow\n",
      "1    2.0  DeepLearningHub\n",
      "2    3.0    emmaginary121\n"
     ]
    }
   ],
   "source": [
    "#(d) copy necessary code from class notes\n",
    "import pandas as pd\n",
    "import ruamel.yaml #A .yaml file \n",
    "#This is your configuration file. \n",
    "twitter_yaml='./twitter/config.yaml'\n",
    "with open(twitter_yaml, 'r') as yaml_t:\n",
    "    cf_t=ruamel.yaml.round_trip_load(yaml_t, preserve_quotes=True)\n",
    "\n",
    "#(e) add twitterid names to screen_name.csv\n",
    "df=pd.read_csv(cf_t['config']+\"/\"+cf_t['file'])\n",
    "print(df)\n",
    "df.loc[0, 'screen_name'] = 'tensorflow'\n",
    "df.loc[1, 'screen_name'] = 'DeepLearningHub'\n",
    "df.loc[2, 'index'] = 3\n",
    "df.loc[2, 'screen_name'] = 'emmaginary121'\n",
    "print(df)"
   ]
  },
  {
   "cell_type": "code",
   "execution_count": 4,
   "metadata": {},
   "outputs": [
    {
     "name": "stdout",
     "output_type": "stream",
     "text": [
      "Searching twitter for User profile:  tensorflow\n",
      "User found. Total tweets: 430\n",
      "Searching twitter for User profile:  DeepLearningHub\n",
      "User found. Total tweets: 2431\n",
      "Searching twitter for User profile:  emmaginary121\n",
      "User found. Total tweets: 0\n"
     ]
    }
   ],
   "source": [
    "import functions\n",
    "twitter = functions.create_twitter_auth(cf_t)\n",
    "profiles_fn = functions.get_profiles(twitter, df['screen_name'], cf_t)"
   ]
  },
  {
   "cell_type": "code",
   "execution_count": 5,
   "metadata": {},
   "outputs": [],
   "source": [
    "#Update this for your filename replacing ? with actual numbers.\n",
    "twitterfilename= '2018-10-04-user-profiles.json'"
   ]
  },
  {
   "cell_type": "markdown",
   "metadata": {},
   "source": [
    "## Exercise - Seaborn\n",
    "(3) Create the following figure using the Titanic dataset (included with Seaborn).  \n",
    "![](./fig/hm4-1.png)\n",
    "\n"
   ]
  },
  {
   "cell_type": "code",
   "execution_count": 6,
   "metadata": {},
   "outputs": [],
   "source": [
    "import seaborn as sns\n",
    "tips = sns.load_dataset(\"tips\")\n",
    "iris = sns.load_dataset(\"iris\")\n",
    "titanic = sns.load_dataset(\"titanic\")\n",
    "BoxAge = sns.boxplot(x=titanic['age'])"
   ]
  },
  {
   "cell_type": "code",
   "execution_count": 7,
   "metadata": {},
   "outputs": [],
   "source": [
    "q3b_answer=\"\"\" Given the box plot graph above, we're able to identify the following information\n",
    "*Note: the following numbers are just estimations as viewed on the graph - not exact\n",
    "minimum value = ~1 years old\n",
    "Q1 (25 percentile) = ~20 years old\n",
    "median value = ~high 20s, maybe 27/28 years old\n",
    "Q3 (75 percentile) = ~high 30s, maybe 37/38/ years old\n",
    "maximum value = ~mid 60s, maybe 65 years old\n",
    "IQR (Q3-Q1) = ~high teens, maybe 18 years old\n",
    "Addtionally, there are outliers on the right side that are past the Q3+1.5*IQR mark\n",
    "\"\"\""
   ]
  },
  {
   "cell_type": "markdown",
   "metadata": {},
   "source": [
    "(4a) Create the following figure using the Titanic dataset (included with Seaborn). \n",
    "![](./fig/hm4-2.png)\n",
    "\n"
   ]
  },
  {
   "cell_type": "code",
   "execution_count": 8,
   "metadata": {},
   "outputs": [
    {
     "data": {
      "image/png": "[encoded data removed]",
      "text/plain": [
       "<Figure size 432x288 with 1 Axes>"
      ]
     },
     "metadata": {},
     "output_type": "display_data"
    }
   ],
   "source": [
    "import statistics as stats\n",
    "sns.set_style('darkgrid')\n",
    "BarAge = sns.barplot(x='embark_town', y='survived', data=titanic)"
   ]
  },
  {
   "cell_type": "code",
   "execution_count": 9,
   "metadata": {},
   "outputs": [],
   "source": [
    "q4b_answer=\"\"\"Given the graph above, we're able to see what percent/mean of passengers survived in\n",
    "relation to where he/she boarded the ship. The grey bar indicates the uncertainty/%error around the\n",
    "estimation. We're able to assume these are the percent of those whom surived because the values are\n",
    "1 or 0, so by finding the mean, you're essentially dividing number survived over total number of \n",
    "passengers. These are just estimations based on the graph above (again not exact numbers):\n",
    "Southampton ~33% survived\n",
    "Cherbourg ~55% survived\n",
    "Queenstown ~39% survived\n",
    "\"\"\""
   ]
  },
  {
   "cell_type": "markdown",
   "metadata": {},
   "source": [
    "(5a) Create the following figure using the Titanic dataset (included with Seaborn). \n",
    "![](./fig/hm4-3.png)\n",
    "\n",
    "\n",
    "\n"
   ]
  },
  {
   "cell_type": "code",
   "execution_count": 10,
   "metadata": {},
   "outputs": [
    {
     "data": {
      "image/png": "[encoded data removed]",
      "text/plain": [
       "<Figure size 432x288 with 1 Axes>"
      ]
     },
     "metadata": {},
     "output_type": "display_data"
    }
   ],
   "source": [
    "SwarmClass = sns.swarmplot(x='class', y='age', hue='survived', data=titanic)"
   ]
  },
  {
   "cell_type": "code",
   "execution_count": 11,
   "metadata": {},
   "outputs": [],
   "source": [
    "q5b_answer=\"\"\"A swarmplot draws a scatterplot with no overlapping points, which is a representation\n",
    "of the distribution of ages within each class. As you can see:\n",
    "First class: The ages appear to be relatively normally distributed\n",
    "Second class: The ages are slightly more concentrated to ages below 40 years old.\n",
    "Third class: A very high concentrationof ages are between mid-teens to high-30s.\n",
    "\"\"\""
   ]
  },
  {
   "cell_type": "markdown",
   "metadata": {},
   "source": [
    "(6b) Create the following figure using the Titanic dataset (included with Seaborn). \n",
    "![](./fig/hm4-4.png)\n",
    "\n"
   ]
  },
  {
   "cell_type": "code",
   "execution_count": 12,
   "metadata": {},
   "outputs": [
    {
     "name": "stderr",
     "output_type": "stream",
     "text": [
      "/opt/conda/lib/python3.6/site-packages/matplotlib/axes/_axes.py:6462: UserWarning: The 'normed' kwarg is deprecated, and has been replaced by the 'density' kwarg.\n",
      "  warnings.warn(\"The 'normed' kwarg is deprecated, and has been \"\n"
     ]
    },
    {
     "data": {
      "image/png": "[encoded data removed]",
      "text/plain": [
       "<Figure size 432x288 with 1 Axes>"
      ]
     },
     "metadata": {},
     "output_type": "display_data"
    }
   ],
   "source": [
    "DistFare = sns.distplot(titanic['fare'], kde=True, rug=True)"
   ]
  },
  {
   "cell_type": "code",
   "execution_count": 13,
   "metadata": {},
   "outputs": [],
   "source": [
    "q6b_answer=\"\"\"The graph above illistrates the distribution/density of each fare paid. As you can \n",
    "see the distribution of fares is positively/rightly skewed since the peak/majority is on the left\n",
    "side (where the fairs are less than about $50)\n",
    "\"\"\""
   ]
  },
  {
   "cell_type": "markdown",
   "metadata": {},
   "source": [
    "## Exercise-Beautiful Soup\n",
    "Imagine you would like to write a simple python script that pulls in data from https://webrobots.io/kickstarter-datasets/.  To do that, we would have to get all the links.  Here is some starter code that will download the url into a soup object. \n",
    "\n"
   ]
  },
  {
   "cell_type": "code",
   "execution_count": 14,
   "metadata": {},
   "outputs": [],
   "source": [
    "#This will pull the data\n",
    "from bs4 import BeautifulSoup\n",
    "import requests\n",
    "response = requests.get(\"https://webrobots.io/kickstarter-datasets/\")\n",
    "html_doc = response.text\n",
    "soup = BeautifulSoup(html_doc, 'html.parser')\n",
    "#print(soup.prettify())\n",
    "\n"
   ]
  },
  {
   "cell_type": "markdown",
   "metadata": {},
   "source": [
    "### (7) Describe where in the html the links occur. "
   ]
  },
  {
   "cell_type": "code",
   "execution_count": 15,
   "metadata": {},
   "outputs": [],
   "source": [
    "q7_answer=\"\"\"The links occur between the <a href= \"https://... \"> in the html code. The <a> is an\n",
    "html tag that identifies a hyperlink\n",
    "\"\"\""
   ]
  },
  {
   "cell_type": "markdown",
   "metadata": {},
   "source": [
    "(8) Before we try to get the links, lets make sure we can parse the web page. Set the value of the variable `page_title` equal to the contents inside the <title> </title> tag.  The title tag should not be included. \n",
    "\n"
   ]
  },
  {
   "cell_type": "code",
   "execution_count": 16,
   "metadata": {},
   "outputs": [],
   "source": [
    "page_title = soup.title.string"
   ]
  },
  {
   "cell_type": "markdown",
   "metadata": {},
   "source": [
    "\n",
    "(9) The code below will pull out the text for one of the links. Could you create a list called `newlist` that pulls in the link for all of the files. [Hint: use a for loop to process all of the links.]\n",
    "\n",
    "```\n",
    "import re #This is the regular expressions. \n",
    "links = re.findall('https://s3.amazonaws.com/weruns/forfun/Kickstarter.*\\.zip', html_doc) #This is the pattern we want\n",
    "x=links[0]  #here we are setting the value equal to the first link. \n",
    "print(x[117:208])  #Here we are parsing the string using the relevant position. \n",
    "\n",
    "```\n",
    "\n",
    "\n"
   ]
  },
  {
   "cell_type": "code",
   "execution_count": 17,
   "metadata": {},
   "outputs": [],
   "source": [
    "import re\n",
    "newlist=[]\n",
    "links=re.findall('https://s3.amazonaws.com/weruns/forfun/Kickstarter.*\\.zip', html_doc)\n",
    "for i in range(len(links)):\n",
    "    x=links[i]\n",
    "    newlist.append(x[117:208])"
   ]
  },
  {
   "cell_type": "markdown",
   "metadata": {},
   "source": [
    "### Regular Expressions\n",
    "\n",
    "Did you know you just used regular expressions? This is a useful way of parsing through string data. \n",
    "\n",
    "(10) There are a lot of things that we can do with regular expressions.  For the input `text`, please complete the following transformations. \n",
    "\n",
    "- Change `text` to lower case.\n",
    "- Remove all emails and substitute them with '--'\n",
    "- Remove all digits and replace with *. \n",
    "- Split the lines and put them into a list called `textlines`.\n",
    "\n",
    "The resulting list should be:\n",
    "```\n",
    "['the test score is ** with the email -- for mgmt*****.',\n",
    " 'the test score is ** with the email -- for mgmt*****.']\n",
    "```\n",
    "\n"
   ]
  },
  {
   "cell_type": "code",
   "execution_count": 18,
   "metadata": {},
   "outputs": [],
   "source": [
    "import re\n",
    "text=\"\"\"The test score is 85 with the email john@rpi.edu for MGMT33223.\n",
    "The test score is 83 with the email jim@rpi.edu for MGMT33223.\n",
    "\"\"\"\n",
    "email = re.compile('\\w+@\\w+\\.[a-z]{3}')#finds text that resembles an email\n",
    "newtext = email.sub('--', text)\n",
    "numbers = re.compile('\\d')#finds text that are numbers\n",
    "newtext = numbers.sub('*', newtext)\n",
    "textlines = newtext.lower().splitlines()"
   ]
  },
  {
   "cell_type": "markdown",
   "metadata": {},
   "source": [
    "### This Loads a Testing Array \n",
    "- This runs tests against your b array.  If you complete the assingment correctly, you will pass the tests. \n",
    "- **If you attempt to fake passing the tests you will receive a 0 on the assignment and it will be considered an ethical violation.**"
   ]
  },
  {
   "cell_type": "code",
   "execution_count": 19,
   "metadata": {},
   "outputs": [],
   "source": [
    "#Output your answers\n",
    "answers= [q1_question, q1_answer, q3b_answer, q4b_answer, q5b_answer, q6b_answer, q7_answer]\n",
    "with open('answers.txt', 'w') as outfile:   #The \"with\" incorporates an open and close of file. \n",
    "    outfile.write(\"\\n\".join(answers))"
   ]
  },
  {
   "cell_type": "code",
   "execution_count": 20,
   "metadata": {},
   "outputs": [
    {
     "name": "stdout",
     "output_type": "stream",
     "text": [
      "Solving environment: done\n",
      "\n",
      "# All requested packages already installed.\n",
      "\n"
     ]
    }
   ],
   "source": [
    "!conda install -c conda-forge --yes ipython_unittest \n",
    "#if you didn't install last time. "
   ]
  },
  {
   "cell_type": "code",
   "execution_count": 21,
   "metadata": {},
   "outputs": [],
   "source": [
    "%load_ext ipython_unittest\n",
    "#this enables running tests."
   ]
  },
  {
   "cell_type": "code",
   "execution_count": 22,
   "metadata": {},
   "outputs": [
    {
     "name": "stdout",
     "output_type": "stream",
     "text": [
      "{'contributors_enabled': False,\n",
      " 'created_at': 'Tue Sep 25 14:00:11 +0000 2018',\n",
      " 'default_profile': True,\n",
      " 'default_profile_image': False,\n",
      " 'description': '',\n",
      " 'entities': {'description': {'urls': []}},\n",
      " 'favourites_count': 0,\n",
      " 'follow_request_sent': False,\n",
      " 'followers_count': 0,\n",
      " 'following': False,\n",
      " 'friends_count': 0,\n",
      " 'geo_enabled': False,\n",
      " 'has_extended_profile': False,\n",
      " 'id': 1044587371759587328,\n",
      " 'id_str': '1044587371759587328',\n",
      " 'is_translation_enabled': False,\n",
      " 'is_translator': False,\n",
      " 'lang': 'en',\n",
      " 'listed_count': 0,\n",
      " 'location': '',\n",
      " 'name': 'emma',\n",
      " 'notifications': False,\n",
      " 'profile_background_color': 'F5F8FA',\n",
      " 'profile_background_image_url': None,\n",
      " 'profile_background_image_url_https': None,\n",
      " 'profile_background_tile': False,\n",
      " 'profile_image_url': 'http://pbs.twimg.com/profile_images/1044588003254063104/azffHSuB_normal.jpg',\n",
      " 'profile_image_url_https': 'https://pbs.twimg.com/profile_images/1044588003254063104/azffHSuB_normal.jpg',\n",
      " 'profile_link_color': '1DA1F2',\n",
      " 'profile_sidebar_border_color': 'C0DEED',\n",
      " 'profile_sidebar_fill_color': 'DDEEF6',\n",
      " 'profile_text_color': '333333',\n",
      " 'profile_use_background_image': True,\n",
      " 'protected': False,\n",
      " 'screen_name': 'emmaginary121',\n",
      " 'statuses_count': 0,\n",
      " 'time_zone': None,\n",
      " 'translator_type': 'none',\n",
      " 'url': None,\n",
      " 'utc_offset': None,\n",
      " 'verified': False}\n"
     ]
    }
   ],
   "source": [
    "#This processes some of your files for use in the tests. \n",
    "\n",
    "path='data/profiles/2018-10-03-user-profiles.json'\n",
    "names=[]\n",
    "urls=[]\n",
    "\n",
    "import json   #This imports the JSON\n",
    "from pprint import pprint  #This will print the file in a nested way. \n",
    "\n",
    "with open(path) as data_file:   #The \"with\" incorporates an open and close of file.   \n",
    "    for line in data_file:\n",
    "        #print(line)\n",
    "        j = json.loads(line)\n",
    "        names.append(j['name'])\n",
    "        urls.append(j['url'])\n",
    "pprint(j) #Pretty printing (pprint) makes it easier to see the nesting of the files. '''\n",
    "\n"
   ]
  },
  {
   "cell_type": "code",
   "execution_count": 23,
   "metadata": {},
   "outputs": [
    {
     "data": {
      "application/unittest.status+json": {
       "color": "yellow",
       "message": "",
       "previous": 0
      },
      "text/plain": []
     },
     "metadata": {},
     "output_type": "display_data"
    },
    {
     "data": {
      "application/unittest.status+json": {
       "color": "lightgreen",
       "message": "......\n----------------------------------------------------------------------\nRan 6 tests in 0.000s\n\nOK\n",
       "previous": 0
      },
      "text/plain": [
       "Success"
      ]
     },
     "metadata": {},
     "output_type": "display_data"
    },
    {
     "name": "stdout",
     "output_type": "stream",
     "text": [
      "......\n",
      "----------------------------------------------------------------------\n",
      "Ran 6 tests in 0.000s\n",
      "\n",
      "OK\n"
     ]
    },
    {
     "data": {
      "text/plain": [
       "<unittest.runner.TextTestResult run=6 errors=0 failures=0>"
      ]
     },
     "execution_count": 23,
     "metadata": {},
     "output_type": "execute_result"
    }
   ],
   "source": [
    "%%unittest_main\n",
    "class TestHm4(unittest.TestCase):\n",
    "    def test_twitter1(self):\n",
    "        self.assertEqual((urls[0]), \"https://t.co/gxgTGHp5yO\")\n",
    "    def test_twitter2(self):\n",
    "        self.assertEqual(names[1], \"Deep Learning Hub\")\n",
    "    def test_twitter3(self):\n",
    "        self.assertEqual(len(names), 3)\n",
    "    def test_soup1(self):\n",
    "        self.assertEqual(page_title, \"Kickstarter Datasets – Web Scraping Service\")\n",
    "    def test_soup2(self):\n",
    "        self.assertEqual(newlist[5][0:65], 'https://s3.amazonaws.com/weruns/forfun/Kickstarter/Kickstarter_20')\n",
    "    def test_regexpress(self):\n",
    "        self.assertEqual(textlines[0], 'the test score is ** with the email -- for mgmt*****.')\n",
    "\n",
    "\n"
   ]
  },
  {
   "cell_type": "code",
   "execution_count": null,
   "metadata": {},
   "outputs": [],
   "source": []
  }
 ],
 "metadata": {
  "anaconda-cloud": {},
  "celltoolbar": "Slideshow",
  "kernelspec": {
   "display_name": "Python 3",
   "language": "python",
   "name": "python3"
  },
  "language_info": {
   "codemirror_mode": {
    "name": "ipython",
    "version": 3
   },
   "file_extension": ".py",
   "mimetype": "text/x-python",
   "name": "python",
   "nbconvert_exporter": "python",
   "pygments_lexer": "ipython3",
   "version": "3.6.6"
  }
 },
 "nbformat": 4,
 "nbformat_minor": 2
}
